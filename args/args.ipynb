{
 "cells": [
  {
   "cell_type": "code",
   "execution_count": 1,
   "id": "00c1cb60",
   "metadata": {},
   "outputs": [
    {
     "name": "stdout",
     "output_type": "stream",
     "text": [
      "oguzhan kir\n"
     ]
    }
   ],
   "source": [
    "\"\"\"\n",
    "*args and **kwargs\n",
    "when defining a function, we predetermine \n",
    "how many parameters it will take, for example:\n",
    "\"\"\"\n",
    "\n",
    "def fullname(name, sname):\n",
    "    print(name, sname)\n",
    "\n",
    "fullname(\"oguzhan\", \"kir\")"
   ]
  },
  {
   "cell_type": "code",
   "execution_count": 2,
   "id": "9be92d6b",
   "metadata": {},
   "outputs": [
    {
     "name": "stdout",
     "output_type": "stream",
     "text": [
      "('bob', 'james', 'john...')\n"
     ]
    }
   ],
   "source": [
    "\"\"\"\n",
    "if it is not clear how many parameters there \n",
    "will be, then we need to specify that the \n",
    "function can take unlimited parameters\n",
    "with special signs\n",
    "\"\"\"\n",
    "def print_names(*names):\n",
    "    print(names)\n",
    "\n",
    "print_names(\"bob\", \"james\", \"john...\")"
   ]
  },
  {
   "cell_type": "code",
   "execution_count": 3,
   "id": "42e68711",
   "metadata": {},
   "outputs": [
    {
     "name": "stdout",
     "output_type": "stream",
     "text": [
      "('bob', 'james', 'john...')\n"
     ]
    }
   ],
   "source": [
    "\"\"\"\n",
    "*names and *args have no difference\n",
    "*args is common usage\n",
    "\"\"\"\n",
    "\n",
    "def print_names(*args):\n",
    "    print(args)\n",
    "\n",
    "print_names(\"bob\", \"james\", \"john...\")"
   ]
  },
  {
   "cell_type": "code",
   "execution_count": null,
   "id": "e9d00950",
   "metadata": {},
   "outputs": [],
   "source": [
    "#in the next video we will examine\n",
    "#**kwargs\n",
    "\n",
    "#thanks for watching"
   ]
  }
 ],
 "metadata": {
  "kernelspec": {
   "display_name": "Python 3",
   "language": "python",
   "name": "python3"
  },
  "language_info": {
   "codemirror_mode": {
    "name": "ipython",
    "version": 3
   },
   "file_extension": ".py",
   "mimetype": "text/x-python",
   "name": "python",
   "nbconvert_exporter": "python",
   "pygments_lexer": "ipython3",
   "version": "3.9.8"
  }
 },
 "nbformat": 4,
 "nbformat_minor": 5
}
