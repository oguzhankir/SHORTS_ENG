{
 "cells": [
  {
   "cell_type": "code",
   "execution_count": 1,
   "metadata": {},
   "outputs": [],
   "source": [
    "my_list = [1, 3, 5, 7, 9]"
   ]
  },
  {
   "cell_type": "code",
   "execution_count": 2,
   "metadata": {},
   "outputs": [
    {
     "name": "stdout",
     "output_type": "stream",
     "text": [
      "first 1\n",
      "last 9\n",
      "first_n [1, 3, 5]\n",
      "last_n [5, 7, 9]\n",
      "middle [3, 5, 7]\n",
      "reversed [9, 7, 5, 3, 1]\n"
     ]
    }
   ],
   "source": [
    "first = my_list[0]\n",
    "last = my_list[-1]\n",
    "\n",
    "n = 3\n",
    "first_n = my_list[:n]\n",
    "last_n = my_list[-n:]\n",
    "\n",
    "middle = my_list[1:-1]\n",
    "\n",
    "reversed = my_list[::-1]\n",
    "\n",
    "print('first', first)\n",
    "print('last', last)\n",
    "print('first_n', first_n)\n",
    "print('last_n', last_n)\n",
    "print('middle', middle)\n",
    "print('reversed', reversed)\n"
   ]
  },
  {
   "cell_type": "code",
   "execution_count": null,
   "metadata": {},
   "outputs": [],
   "source": [
    "#thanks for watching"
   ]
  }
 ],
 "metadata": {
  "interpreter": {
   "hash": "7f95aea7df05cc2b797c263d857fe10432edc47af65a5172f4d67c72cd746ff0"
  },
  "kernelspec": {
   "display_name": "Python 3.9.8 64-bit",
   "language": "python",
   "name": "python3"
  },
  "language_info": {
   "codemirror_mode": {
    "name": "ipython",
    "version": 3
   },
   "file_extension": ".py",
   "mimetype": "text/x-python",
   "name": "python",
   "nbconvert_exporter": "python",
   "pygments_lexer": "ipython3",
   "version": "3.9.8"
  },
  "orig_nbformat": 4
 },
 "nbformat": 4,
 "nbformat_minor": 2
}
