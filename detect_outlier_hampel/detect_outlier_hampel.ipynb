{
 "cells": [
  {
   "cell_type": "code",
   "execution_count": 1,
   "metadata": {},
   "outputs": [],
   "source": [
    "#!pip install hampel\n",
    "from hampel import hampel\n",
    "import pandas as pd\n"
   ]
  },
  {
   "cell_type": "code",
   "execution_count": 2,
   "metadata": {},
   "outputs": [
    {
     "name": "stdout",
     "output_type": "stream",
     "text": [
      "Outliers: [13, 15, 40, 580]\n"
     ]
    }
   ],
   "source": [
    "ts = pd.Series([1,2,1,2,13,2,\n",
    "            1,2,15,1,2,40,580,1,3])\n",
    "\n",
    "#outliers\n",
    "outlier_indices = hampel(ts, window_size=5, n=3)\n",
    "outliers = []\n",
    "\n",
    "for i in outlier_indices:\n",
    "    outliers.append(ts.iloc[i])\n",
    "\n",
    "print('Outliers:', outliers)"
   ]
  },
  {
   "cell_type": "code",
   "execution_count": null,
   "metadata": {},
   "outputs": [],
   "source": []
  }
 ],
 "metadata": {
  "interpreter": {
   "hash": "7f95aea7df05cc2b797c263d857fe10432edc47af65a5172f4d67c72cd746ff0"
  },
  "kernelspec": {
   "display_name": "Python 3.9.8 64-bit",
   "language": "python",
   "name": "python3"
  },
  "language_info": {
   "codemirror_mode": {
    "name": "ipython",
    "version": 3
   },
   "file_extension": ".py",
   "mimetype": "text/x-python",
   "name": "python",
   "nbconvert_exporter": "python",
   "pygments_lexer": "ipython3",
   "version": "3.9.8"
  },
  "orig_nbformat": 4
 },
 "nbformat": 4,
 "nbformat_minor": 2
}
