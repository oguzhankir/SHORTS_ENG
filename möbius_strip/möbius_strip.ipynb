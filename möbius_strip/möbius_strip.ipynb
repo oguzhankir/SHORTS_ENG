{
 "cells": [
  {
   "cell_type": "code",
   "execution_count": 1,
   "metadata": {},
   "outputs": [],
   "source": [
    "#some imports\n",
    "\n",
    "import numpy as np\n",
    "import matplotlib.pyplot as plt\n",
    "from matplotlib import cm\n",
    "from matplotlib.ticker import LinearLocator\n",
    "%matplotlib qt"
   ]
  },
  {
   "cell_type": "code",
   "execution_count": 2,
   "metadata": {},
   "outputs": [],
   "source": [
    "\"\"\"\n",
    "equation source\n",
    "\n",
    "https://en.wikipedia.org/wiki/M%C3%B6bius_strip\n",
    "\"\"\"\n",
    "\n",
    "#intervals required to construct axes\n",
    "\n",
    "u = np.linspace(0, 2*np.pi, 30)\n",
    "v = np.linspace(-1, 1, 30)\n",
    "\n",
    "u, v = np.meshgrid(u, v, sparse=True)\n",
    "U, V = np.meshgrid(u, v, sparse=False)\n",
    "\n",
    "#axes\n",
    "#you can copy paste this\n",
    "\n",
    "x = (1+v/2*np.cos(u/2))*np.cos(u)\n",
    "y = (1+v/2*np.cos(u/2))*np.sin(u)\n",
    "z = v/2*np.sin(u/2)"
   ]
  },
  {
   "cell_type": "code",
   "execution_count": 3,
   "metadata": {},
   "outputs": [],
   "source": [
    "#plot part\n",
    "\n",
    "fig, ax = plt.subplots(subplot_kw={\"projection\":\"3d\"})\n",
    "\n",
    "surf = ax.plot_surface(x,y,z, cmap=cm.coolwarm,\n",
    "                      linewidth=0, antialiased=False)\n",
    "\n",
    "ax.xaxis.set_major_locator(LinearLocator(10))\n",
    "ax.xaxis.set_major_formatter(\"{x:.02f}\")\n",
    "\n",
    "fig.colorbar(surf, shrink=0.5, aspect=5)\n",
    "plt.show()"
   ]
  },
  {
   "cell_type": "code",
   "execution_count": null,
   "metadata": {},
   "outputs": [],
   "source": []
  }
 ],
 "metadata": {
  "interpreter": {
   "hash": "7f95aea7df05cc2b797c263d857fe10432edc47af65a5172f4d67c72cd746ff0"
  },
  "kernelspec": {
   "display_name": "Python 3.9.8 64-bit",
   "language": "python",
   "name": "python3"
  },
  "language_info": {
   "codemirror_mode": {
    "name": "ipython",
    "version": 3
   },
   "file_extension": ".py",
   "mimetype": "text/x-python",
   "name": "python",
   "nbconvert_exporter": "python",
   "pygments_lexer": "ipython3",
   "version": "3.9.8"
  },
  "orig_nbformat": 4
 },
 "nbformat": 4,
 "nbformat_minor": 2
}
