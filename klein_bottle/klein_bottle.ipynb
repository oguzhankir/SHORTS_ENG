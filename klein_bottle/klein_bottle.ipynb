{
 "cells": [
  {
   "cell_type": "code",
   "execution_count": 1,
   "metadata": {},
   "outputs": [],
   "source": [
    "#some imports\n",
    "import numpy as np\n",
    "import matplotlib.pyplot as plt\n",
    "from matplotlib import cm\n",
    "from IPython.display import Image\n",
    "from matplotlib.ticker import LinearLocator\n",
    "%matplotlib qt"
   ]
  },
  {
   "cell_type": "code",
   "execution_count": 2,
   "metadata": {},
   "outputs": [
    {
     "data": {
      "text/plain": [
       "'\\nsource:\\nhttps://en.wikipedia.org/wiki/Klein_bottle\\n'"
      ]
     },
     "execution_count": 2,
     "metadata": {},
     "output_type": "execute_result"
    }
   ],
   "source": [
    "\"\"\"\n",
    "source:\n",
    "https://en.wikipedia.org/wiki/Klein_bottle\n",
    "\"\"\""
   ]
  },
  {
   "cell_type": "code",
   "execution_count": 3,
   "metadata": {},
   "outputs": [],
   "source": [
    "#intervals required to construct axes\n",
    "u = np.linspace(0, np.pi, 30)\n",
    "v = np.linspace(0, 2*np.pi, 30)\n",
    "\n",
    "u, v = np.meshgrid(u, v, sparse=True)\n",
    "U, V = np.meshgrid(u, v, sparse=False)\n",
    "\n",
    "\n",
    "#axes\n",
    "#you can copy paste this\n",
    "x = -2/15*np.cos(u)*(3*np.cos(v) - 30*np.sin(u) + \n",
    "90*(np.cos(u)**4)*np.sin(u)-60*(np.cos(u)**6)*np.sin(u)+\n",
    "5*np.cos(u)*np.cos(v)* np.sin(u))\n",
    "\n",
    "y = -1/15*np.sin(u)*(3*np.cos(v)-3*(np.cos(u)**2)*np.cos(v)-\n",
    "48*(np.cos(u)**4)*np.cos(v)+\n",
    "48*(np.cos(u)**6)*np.cos(v)-60*np.sin(u)+\n",
    "5*np.cos(u)*np.cos(v)*np.sin(u)-\n",
    "5*(np.cos(u)**3)*np.cos(v)*np.sin(u)-\n",
    "80*(np.cos(u)**5)*np.cos(v)*np.sin(u)+\n",
    "80*(np.cos(u)**7)*np.cos(v)*np.sin(u))\n",
    "\n",
    "\n",
    "z = 2/15*(3+5*np.cos(u)*np.sin(u))*np.sin(v)\n"
   ]
  },
  {
   "cell_type": "code",
   "execution_count": 4,
   "metadata": {},
   "outputs": [],
   "source": [
    "#plot part\n",
    "fig, ax = plt.subplots(subplot_kw={\"projection\":\"3d\"})\n",
    "\n",
    "surf = ax.plot_surface(x,y,z, cmap=cm.coolwarm,\n",
    "                      linewidth=0, antialiased=False)\n",
    "\n",
    "ax.xaxis.set_major_locator(LinearLocator(10))\n",
    "ax.xaxis.set_major_formatter(\"{x:.02f}\")\n",
    "\n",
    "fig.colorbar(surf, shrink=0.5, aspect=5)\n",
    "plt.show()"
   ]
  },
  {
   "cell_type": "code",
   "execution_count": null,
   "metadata": {},
   "outputs": [],
   "source": []
  }
 ],
 "metadata": {
  "interpreter": {
   "hash": "7f95aea7df05cc2b797c263d857fe10432edc47af65a5172f4d67c72cd746ff0"
  },
  "kernelspec": {
   "display_name": "Python 3.9.8 64-bit",
   "language": "python",
   "name": "python3"
  },
  "language_info": {
   "codemirror_mode": {
    "name": "ipython",
    "version": 3
   },
   "file_extension": ".py",
   "mimetype": "text/x-python",
   "name": "python",
   "nbconvert_exporter": "python",
   "pygments_lexer": "ipython3",
   "version": "3.9.8"
  },
  "orig_nbformat": 4
 },
 "nbformat": 4,
 "nbformat_minor": 2
}
