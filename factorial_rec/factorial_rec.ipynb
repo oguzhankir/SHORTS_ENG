{
 "cells": [
  {
   "cell_type": "code",
   "execution_count": 2,
   "id": "569d3221",
   "metadata": {},
   "outputs": [
    {
     "data": {
      "text/plain": [
       "3628800"
      ]
     },
     "execution_count": 2,
     "metadata": {},
     "output_type": "execute_result"
    }
   ],
   "source": [
    "def factorial(n):\n",
    "\n",
    "    #n=0 and n=1 factorial=1\n",
    "\n",
    "    if n ==0 or n==1:\n",
    "        return 1\n",
    "\n",
    "    #recursion\n",
    "    else:\n",
    "        return n * factorial(n-1)\n",
    "\n",
    "\"\"\"\n",
    "function explanation\n",
    "for factorial(4)\n",
    ">>> 4*(factorial(3))\n",
    ">>> 4*3*(factorial(2))\n",
    ">>> 4*3*2(factorial(1))\n",
    ">>> 4*3*2*1\n",
    "\"\"\"\n",
    "factorial(10)"
   ]
  },
  {
   "cell_type": "code",
   "execution_count": null,
   "id": "5327d416",
   "metadata": {},
   "outputs": [],
   "source": [
    "#thanks for watching"
   ]
  }
 ],
 "metadata": {
  "kernelspec": {
   "display_name": "Python 3",
   "language": "python",
   "name": "python3"
  },
  "language_info": {
   "codemirror_mode": {
    "name": "ipython",
    "version": 3
   },
   "file_extension": ".py",
   "mimetype": "text/x-python",
   "name": "python",
   "nbconvert_exporter": "python",
   "pygments_lexer": "ipython3",
   "version": "3.9.8"
  }
 },
 "nbformat": 4,
 "nbformat_minor": 5
}
