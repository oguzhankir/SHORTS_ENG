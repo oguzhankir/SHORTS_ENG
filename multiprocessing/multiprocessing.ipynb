{
 "cells": [
  {
   "cell_type": "code",
   "execution_count": 1,
   "id": "a981ecf0-458e-47dc-ba17-a9077c1945b2",
   "metadata": {},
   "outputs": [],
   "source": [
    "import multiprocessing\n",
    "import time"
   ]
  },
  {
   "cell_type": "code",
   "execution_count": 2,
   "id": "63380817-a85a-4eba-bb98-43cbd1603b4b",
   "metadata": {},
   "outputs": [
    {
     "name": "stdout",
     "output_type": "stream",
     "text": [
      "Program finished in 1.5198646000062581 seconds\n"
     ]
    }
   ],
   "source": [
    "#let's define a random function so it takes 0.5\n",
    "#seconds to run\n",
    "\n",
    "def task():\n",
    "    time.sleep(0.5)\n",
    "    \n",
    "\"\"\"\n",
    "let's run it 3 times.\n",
    "you will see that it will take in 1.5 second\n",
    "in total\n",
    "\n",
    "\"\"\"\n",
    "\n",
    "start_time = time.perf_counter()\n",
    "\n",
    "task()\n",
    "task()\n",
    "task()\n",
    "\n",
    "finish_time = time.perf_counter()\n",
    "\n",
    "print(f\"Program finished in {finish_time-start_time} seconds\")"
   ]
  },
  {
   "cell_type": "code",
   "execution_count": 3,
   "id": "62eda0e1-b030-4c23-b444-10a40c2e8bfd",
   "metadata": {},
   "outputs": [
    {
     "name": "stdout",
     "output_type": "stream",
     "text": [
      "Program finished in 0.5945028999994975 seconds\n"
     ]
    }
   ],
   "source": [
    "\"\"\"\n",
    "Now let's run the function 10 times with\n",
    "multiprocessing.\n",
    "you will see that it will take much less\n",
    "time\n",
    "\n",
    "\"\"\"\n",
    "\n",
    "start_time = time.perf_counter()\n",
    "\n",
    "processes = []\n",
    "\n",
    "for i in range(10):\n",
    "    p = multiprocessing.Process(target=task)\n",
    "    \n",
    "    p.start()\n",
    "    processes.append(p)\n",
    "    \n",
    "for p in processes:\n",
    "    p.join()\n",
    "    \n",
    "finis_time = time.perf_counter()\n",
    "\n",
    "print(f\"Program finished in {finis_time-start_time} seconds\")"
   ]
  },
  {
   "cell_type": "code",
   "execution_count": null,
   "id": "51b1343c-aaf3-45bc-956f-d423f1f9a885",
   "metadata": {},
   "outputs": [],
   "source": []
  },
  {
   "cell_type": "code",
   "execution_count": null,
   "id": "7bcb3373-469d-4b86-99e9-09290cd07196",
   "metadata": {},
   "outputs": [],
   "source": []
  },
  {
   "cell_type": "code",
   "execution_count": null,
   "id": "84f2101c-1910-4194-8492-1e1b56cbd406",
   "metadata": {},
   "outputs": [],
   "source": []
  },
  {
   "cell_type": "code",
   "execution_count": null,
   "id": "fcf89788-bc5f-495f-8147-edf941e97195",
   "metadata": {},
   "outputs": [],
   "source": []
  }
 ],
 "metadata": {
  "kernelspec": {
   "display_name": "Python 3 (ipykernel)",
   "language": "python",
   "name": "python3"
  },
  "language_info": {
   "codemirror_mode": {
    "name": "ipython",
    "version": 3
   },
   "file_extension": ".py",
   "mimetype": "text/x-python",
   "name": "python",
   "nbconvert_exporter": "python",
   "pygments_lexer": "ipython3",
   "version": "3.10.4"
  }
 },
 "nbformat": 4,
 "nbformat_minor": 5
}
