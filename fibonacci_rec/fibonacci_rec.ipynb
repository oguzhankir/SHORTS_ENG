{
 "cells": [
  {
   "cell_type": "code",
   "execution_count": 1,
   "id": "49c8e55d",
   "metadata": {},
   "outputs": [
    {
     "name": "stdout",
     "output_type": "stream",
     "text": [
      "[0, 1, 1, 2, 3, 5, 8, 13, 21, 34, 55, 89, 144]\n"
     ]
    }
   ],
   "source": [
    "def fibonacci(n):\n",
    "\n",
    "    #if n=0 stop and return 0\n",
    "    if n == 0:\n",
    "        return 0\n",
    "\n",
    "    #if n=1 or 2, stop and return 1\n",
    "    if n == 1 or n == 2:\n",
    "        return 1\n",
    "\n",
    "    #recursion\n",
    "    else:\n",
    "        return (fibonacci(n-1)+\n",
    "                    fibonacci(n-2))\n",
    "\n",
    "\"\"\"\n",
    "for n = 3\n",
    ">>> fibonacci(2)+fibonacci(1)\n",
    ">>> (fibonacci(1)+fibonacci(0)) + fibonacci(1)\n",
    ">>> (1+0) + 1 =2\n",
    "\n",
    "\"\"\"\n",
    "\n",
    "n = 13\n",
    "#let's send n=13 n=12 one by one\n",
    "fib = [fibonacci(i) for i in range(0,n)]\n",
    "\n",
    "print(fib)"
   ]
  },
  {
   "cell_type": "code",
   "execution_count": null,
   "id": "9386b5a4",
   "metadata": {},
   "outputs": [],
   "source": [
    "#thanks for watching"
   ]
  }
 ],
 "metadata": {
  "kernelspec": {
   "display_name": "Python 3",
   "language": "python",
   "name": "python3"
  },
  "language_info": {
   "codemirror_mode": {
    "name": "ipython",
    "version": 3
   },
   "file_extension": ".py",
   "mimetype": "text/x-python",
   "name": "python",
   "nbconvert_exporter": "python",
   "pygments_lexer": "ipython3",
   "version": "3.9.8"
  }
 },
 "nbformat": 4,
 "nbformat_minor": 5
}
