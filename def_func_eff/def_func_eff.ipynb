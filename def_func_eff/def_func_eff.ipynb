{
 "cells": [
  {
   "cell_type": "code",
   "execution_count": 1,
   "id": "bf23466d",
   "metadata": {},
   "outputs": [],
   "source": [
    "#defining functions effectively in python\n",
    "#normally\n",
    "\n",
    "def myfunc(x: int) -> bool:\n",
    "    if x > 0:\n",
    "        return True\n",
    "    else:\n",
    "        return False"
   ]
  },
  {
   "cell_type": "code",
   "execution_count": 2,
   "id": "6d199a3e",
   "metadata": {},
   "outputs": [],
   "source": [
    "#better\n",
    "def myfunc2(x:int)->bool:\n",
    "    return x>0"
   ]
  },
  {
   "cell_type": "code",
   "execution_count": 3,
   "id": "dd3fd82d",
   "metadata": {},
   "outputs": [
    {
     "name": "stdout",
     "output_type": "stream",
     "text": [
      "True\n",
      "True\n"
     ]
    }
   ],
   "source": [
    "#let's try\n",
    "print(myfunc(3))\n",
    "print(myfunc2(3))"
   ]
  },
  {
   "cell_type": "code",
   "execution_count": null,
   "id": "06ef7297",
   "metadata": {},
   "outputs": [],
   "source": [
    "#thanks for watching"
   ]
  }
 ],
 "metadata": {
  "kernelspec": {
   "display_name": "Python 3 (ipykernel)",
   "language": "python",
   "name": "python3"
  },
  "language_info": {
   "codemirror_mode": {
    "name": "ipython",
    "version": 3
   },
   "file_extension": ".py",
   "mimetype": "text/x-python",
   "name": "python",
   "nbconvert_exporter": "python",
   "pygments_lexer": "ipython3",
   "version": "3.9.8"
  }
 },
 "nbformat": 4,
 "nbformat_minor": 5
}
