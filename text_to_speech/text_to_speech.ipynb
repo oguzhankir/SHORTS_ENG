{
 "cells": [
  {
   "cell_type": "code",
   "execution_count": 1,
   "metadata": {},
   "outputs": [],
   "source": [
    "#!pip install playsound\n",
    "#!pip install gTTS\n",
    "\n",
    "from playsound import playsound\n",
    "from gtts import gTTS"
   ]
  },
  {
   "cell_type": "code",
   "execution_count": 2,
   "metadata": {},
   "outputs": [],
   "source": [
    "text = \"Hello YouTube. Don't forget to subscribe\"\n",
    "path = r'C:\\Users\\maest\\Desktop\\speech.mp3'\n",
    "\n",
    "language = 'en'\n",
    "\n",
    "my_speech = gTTS(\n",
    "    text = text,\n",
    "    lang = language,\n",
    "    slow = False\n",
    ")\n",
    "\n",
    "my_speech.save(path)\n",
    "playsound(path)"
   ]
  },
  {
   "cell_type": "code",
   "execution_count": null,
   "metadata": {},
   "outputs": [],
   "source": []
  }
 ],
 "metadata": {
  "interpreter": {
   "hash": "7f95aea7df05cc2b797c263d857fe10432edc47af65a5172f4d67c72cd746ff0"
  },
  "kernelspec": {
   "display_name": "Python 3.9.8 64-bit",
   "language": "python",
   "name": "python3"
  },
  "language_info": {
   "codemirror_mode": {
    "name": "ipython",
    "version": 3
   },
   "file_extension": ".py",
   "mimetype": "text/x-python",
   "name": "python",
   "nbconvert_exporter": "python",
   "pygments_lexer": "ipython3",
   "version": "3.9.8"
  },
  "orig_nbformat": 4
 },
 "nbformat": 4,
 "nbformat_minor": 2
}
