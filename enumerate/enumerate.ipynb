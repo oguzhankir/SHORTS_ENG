{
 "cells": [
  {
   "cell_type": "code",
   "execution_count": 2,
   "id": "e15e6ccd",
   "metadata": {},
   "outputs": [
    {
     "name": "stdout",
     "output_type": "stream",
     "text": [
      "0 bob\n",
      "1 john\n",
      "2 micheal\n",
      "3 oguzhan\n"
     ]
    }
   ],
   "source": [
    "\"\"\"\n",
    "Enumerate is a built-in function\n",
    "in python. it allows us to loop through a\n",
    "data and have a counter in the loop. e.g:\n",
    "\"\"\"\n",
    "names = [\"bob\", \"john\",\"micheal\",\"oguzhan\"]\n",
    "\n",
    "for counter, name in enumerate(names):\n",
    "    print(counter, name)"
   ]
  },
  {
   "cell_type": "code",
   "execution_count": 3,
   "id": "2b293073",
   "metadata": {},
   "outputs": [
    {
     "name": "stdout",
     "output_type": "stream",
     "text": [
      "5 bob\n",
      "6 john\n",
      "7 micheal\n",
      "8 oguzhan\n"
     ]
    }
   ],
   "source": [
    "\"\"\"\n",
    "we can also set from which \n",
    "number the counter starts\n",
    "\"\"\"\n",
    "for counter, name in enumerate(names, 5):\n",
    "    print(counter, name)"
   ]
  },
  {
   "cell_type": "code",
   "execution_count": 4,
   "id": "4e5e0498",
   "metadata": {},
   "outputs": [
    {
     "data": {
      "text/plain": [
       "[(1, 'bob'), (2, 'john'), (3, 'micheal'), (4, 'oguzhan')]"
      ]
     },
     "execution_count": 4,
     "metadata": {},
     "output_type": "execute_result"
    }
   ],
   "source": [
    "\"\"\"\n",
    "you can also use it to create\n",
    "new lists with indexes and values\n",
    "\"\"\"\n",
    "\n",
    "new_list = list(enumerate(names,1))\n",
    "new_list"
   ]
  },
  {
   "cell_type": "code",
   "execution_count": null,
   "id": "6ff871da",
   "metadata": {},
   "outputs": [],
   "source": [
    "#thanks for watching"
   ]
  }
 ],
 "metadata": {
  "kernelspec": {
   "display_name": "Python 3",
   "language": "python",
   "name": "python3"
  },
  "language_info": {
   "codemirror_mode": {
    "name": "ipython",
    "version": 3
   },
   "file_extension": ".py",
   "mimetype": "text/x-python",
   "name": "python",
   "nbconvert_exporter": "python",
   "pygments_lexer": "ipython3",
   "version": "3.9.8"
  }
 },
 "nbformat": 4,
 "nbformat_minor": 5
}
