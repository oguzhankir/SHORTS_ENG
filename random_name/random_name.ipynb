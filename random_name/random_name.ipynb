{
 "cells": [
  {
   "cell_type": "code",
   "execution_count": 1,
   "metadata": {},
   "outputs": [],
   "source": [
    "#!pip install faker\n",
    "from faker import Faker"
   ]
  },
  {
   "cell_type": "code",
   "execution_count": 2,
   "metadata": {},
   "outputs": [
    {
     "name": "stdout",
     "output_type": "stream",
     "text": [
      "Heather James\n",
      "Heather Pearson\n",
      "Heather Davis\n",
      "Heather Perry\n",
      "Heather Manning\n",
      "Sarah James\n",
      "Sarah Pearson\n",
      "Sarah Davis\n",
      "Sarah Perry\n",
      "Sarah Manning\n",
      "Alexis James\n",
      "Alexis Pearson\n",
      "Alexis Davis\n",
      "Alexis Perry\n",
      "Alexis Manning\n",
      "Amanda James\n",
      "Amanda Pearson\n",
      "Amanda Davis\n",
      "Amanda Perry\n",
      "Amanda Manning\n",
      "Tonya James\n",
      "Tonya Pearson\n",
      "Tonya Davis\n",
      "Tonya Perry\n",
      "Tonya Manning\n"
     ]
    }
   ],
   "source": [
    "fake = Faker()\n",
    "\n",
    "first_names=[fake.first_name() for _ in range(5)]\n",
    "last_names=[fake.last_name() for _ in range(5)]\n",
    "\n",
    "for first_name in first_names:\n",
    "    for last_name in last_names:\n",
    "        print(first_name, last_name)"
   ]
  },
  {
   "cell_type": "code",
   "execution_count": null,
   "metadata": {},
   "outputs": [],
   "source": [
    "#thanks for watching"
   ]
  }
 ],
 "metadata": {
  "interpreter": {
   "hash": "7f95aea7df05cc2b797c263d857fe10432edc47af65a5172f4d67c72cd746ff0"
  },
  "kernelspec": {
   "display_name": "Python 3.9.8 64-bit",
   "language": "python",
   "name": "python3"
  },
  "language_info": {
   "codemirror_mode": {
    "name": "ipython",
    "version": 3
   },
   "file_extension": ".py",
   "mimetype": "text/x-python",
   "name": "python",
   "nbconvert_exporter": "python",
   "pygments_lexer": "ipython3",
   "version": "3.9.8"
  },
  "orig_nbformat": 4
 },
 "nbformat": 4,
 "nbformat_minor": 2
}
