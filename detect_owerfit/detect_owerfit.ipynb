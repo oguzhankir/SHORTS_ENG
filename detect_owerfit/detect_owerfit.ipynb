{
 "cells": [
  {
   "cell_type": "code",
   "execution_count": 1,
   "metadata": {},
   "outputs": [
    {
     "data": {
      "image/png": "[encoded data removed]",
      "text/plain": [
       "<Figure size 432x288 with 1 Axes>"
      ]
     },
     "metadata": {
      "needs_background": "dark"
     },
     "output_type": "display_data"
    }
   ],
   "source": [
    "#imports\n",
    "from sklearn.ensemble \\\n",
    "    import RandomForestClassifier\n",
    "\n",
    "from sklearn.datasets \\\n",
    "    import make_classification\n",
    "\n",
    "from sklearn.model_selection \\\n",
    "    import train_test_split\n",
    "\n",
    "from sklearn.metrics import \\\n",
    "    accuracy_score\n",
    "\n",
    "import matplotlib.pyplot as plt\n",
    "\n",
    "#make classification data\n",
    "X, y = make_classification(n_samples=10000, \n",
    "                n_features=20, \n",
    "                n_informative=5,\n",
    "                 n_redundant=15,\n",
    "                  random_state=1)\n",
    "\n",
    "#train test split\n",
    "X_train, X_test, y_train, y_test = \\\n",
    "    train_test_split(\n",
    "    X, y, test_size=0.33, random_state=0)\n",
    "\n",
    "#define max_depth range for owerfit\n",
    "max_depth_param = range(1,20,1)\n",
    "\n",
    "#empty lists for accuracy scores\n",
    "test_acc = []\n",
    "train_acc = []\n",
    "\n",
    "#define loop for every max_depth\n",
    "for i in max_depth_param:\n",
    "\n",
    "    #define model with max_depth=i\n",
    "    rf = RandomForestClassifier(max_depth=i)\n",
    "\n",
    "    #fit model\n",
    "    rf.fit(X_train, y_train)\n",
    "\n",
    "    #predictions for train set\n",
    "    y_pred_train = rf.predict(X_train)\n",
    "\n",
    "    #add predictions to accuracy list\n",
    "    train_acc.append(accuracy_score(y_train,\n",
    "                             y_pred_train))\n",
    "\n",
    "    #predictions for test set\n",
    "    y_pred_test = rf.predict(X_test)\n",
    "\n",
    "    #add predictions to accuracy list\n",
    "    test_acc.append(accuracy_score(y_test, \n",
    "                                y_pred_test))\n",
    "\n",
    "\n",
    "#plot learning curve\n",
    "fig = plt.figure()\n",
    "ax = fig.add_subplot(111)\n",
    "\n",
    "ax.plot(max_depth_param, \n",
    "    train_acc, \n",
    "    label =\"train\")\n",
    "\n",
    "ax.plot(max_depth_param, \n",
    "    test_acc, \n",
    "    label=\"test\")\n",
    "\n",
    "\n",
    "ax.tick_params(axis='x', colors='white')\n",
    "ax.tick_params(axis='y', colors='white')\n",
    "plt.legend()\n",
    "plt.show()\n",
    "\n",
    "\n"
   ]
  },
  {
   "cell_type": "code",
   "execution_count": null,
   "metadata": {},
   "outputs": [],
   "source": [
    "#after a while, you can see that the accuracy\n",
    "#values of the train set and test set\n",
    "#move away from each other.\n",
    "#so we have detected the owerfit\n",
    "\n",
    "#thanks for watching \n",
    "#and don't forget to subscribe"
   ]
  }
 ],
 "metadata": {
  "interpreter": {
   "hash": "7f95aea7df05cc2b797c263d857fe10432edc47af65a5172f4d67c72cd746ff0"
  },
  "kernelspec": {
   "display_name": "Python 3.9.8 64-bit",
   "language": "python",
   "name": "python3"
  },
  "language_info": {
   "codemirror_mode": {
    "name": "ipython",
    "version": 3
   },
   "file_extension": ".py",
   "mimetype": "text/x-python",
   "name": "python",
   "nbconvert_exporter": "python",
   "pygments_lexer": "ipython3",
   "version": "3.9.8"
  },
  "orig_nbformat": 4
 },
 "nbformat": 4,
 "nbformat_minor": 2
}
