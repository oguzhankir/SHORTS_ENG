{
 "cells": [
  {
   "cell_type": "code",
   "execution_count": 2,
   "id": "f50649b0",
   "metadata": {},
   "outputs": [
    {
     "data": {
      "text/plain": [
       "'\\nfor list=[a,b,c,d]\\n\\n>>> 1+get_list_len([b,c,d])\\n>>> 1+1+get_list_len([c,d])\\n>>> 1+1+1+get_list_len([d])\\n>>> 1+1+1+1\\n>>> 4\\n'"
      ]
     },
     "execution_count": 2,
     "metadata": {},
     "output_type": "execute_result"
    }
   ],
   "source": [
    "def get_list_len(list):\n",
    "    if list == []:\n",
    "        return 0\n",
    "\n",
    "    else:\n",
    "        return 1+get_list_len(list[1:])\n",
    "\n",
    "\"\"\"\n",
    "for list=[a,b,c,d]\n",
    "\n",
    ">>> 1+get_list_len([b,c,d])\n",
    ">>> 1+1+get_list_len([c,d])\n",
    ">>> 1+1+1+get_list_len([d])\n",
    ">>> 1+1+1+1\n",
    ">>> 4\n",
    "\"\"\""
   ]
  },
  {
   "cell_type": "code",
   "execution_count": 3,
   "id": "36057f0d",
   "metadata": {},
   "outputs": [
    {
     "data": {
      "text/plain": [
       "0"
      ]
     },
     "execution_count": 3,
     "metadata": {},
     "output_type": "execute_result"
    }
   ],
   "source": [
    "list = []\n",
    "get_list_len(list)"
   ]
  },
  {
   "cell_type": "code",
   "execution_count": 4,
   "id": "34f38c6d",
   "metadata": {},
   "outputs": [],
   "source": [
    "for i in range(1500):\n",
    "    list.append(i)\n",
    "    "
   ]
  },
  {
   "cell_type": "code",
   "execution_count": 5,
   "id": "06077fb4",
   "metadata": {},
   "outputs": [
    {
     "data": {
      "text/plain": [
       "1500"
      ]
     },
     "execution_count": 5,
     "metadata": {},
     "output_type": "execute_result"
    }
   ],
   "source": [
    "get_list_len(list)"
   ]
  },
  {
   "cell_type": "code",
   "execution_count": null,
   "id": "d2867d00",
   "metadata": {},
   "outputs": [],
   "source": [
    "#thanks for watching"
   ]
  }
 ],
 "metadata": {
  "kernelspec": {
   "display_name": "Python 3",
   "language": "python",
   "name": "python3"
  },
  "language_info": {
   "codemirror_mode": {
    "name": "ipython",
    "version": 3
   },
   "file_extension": ".py",
   "mimetype": "text/x-python",
   "name": "python",
   "nbconvert_exporter": "python",
   "pygments_lexer": "ipython3",
   "version": "3.9.8"
  }
 },
 "nbformat": 4,
 "nbformat_minor": 5
}
