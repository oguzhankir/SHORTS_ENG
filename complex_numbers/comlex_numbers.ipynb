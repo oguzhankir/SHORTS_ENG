{
 "cells": [
  {
   "cell_type": "code",
   "execution_count": 1,
   "id": "2f7df5b6",
   "metadata": {},
   "outputs": [
    {
     "name": "stdout",
     "output_type": "stream",
     "text": [
      "(3+5j) (4+8j)\n"
     ]
    }
   ],
   "source": [
    "\"\"\"\n",
    "let's define complex numbers\n",
    "in two different ways\n",
    "\"\"\"\n",
    "num1 = 3+5j\n",
    "num2 = complex(4,8)\n",
    "print(num1, num2)"
   ]
  },
  {
   "cell_type": "code",
   "execution_count": 2,
   "id": "432d320c",
   "metadata": {},
   "outputs": [
    {
     "name": "stdout",
     "output_type": "stream",
     "text": [
      "<class 'complex'> <class 'complex'>\n"
     ]
    }
   ],
   "source": [
    "print(type(num1), type(num2))"
   ]
  },
  {
   "cell_type": "code",
   "execution_count": 3,
   "id": "5a7028be",
   "metadata": {},
   "outputs": [
    {
     "name": "stdout",
     "output_type": "stream",
     "text": [
      "3.0 4.0\n"
     ]
    }
   ],
   "source": [
    "#real parts of numbers\n",
    "print(num1.real, num2.real)"
   ]
  },
  {
   "cell_type": "code",
   "execution_count": 4,
   "id": "26016a04",
   "metadata": {},
   "outputs": [
    {
     "name": "stdout",
     "output_type": "stream",
     "text": [
      "5.0 8.0\n"
     ]
    }
   ],
   "source": [
    "#imaginary parts of numbers\n",
    "print(num1.imag, num2.imag)"
   ]
  },
  {
   "cell_type": "code",
   "execution_count": 5,
   "id": "524effac",
   "metadata": {},
   "outputs": [
    {
     "name": "stdout",
     "output_type": "stream",
     "text": [
      "num1 + num2 = (7+13j)\n",
      "num1 - num2 = (-1-3j)\n"
     ]
    }
   ],
   "source": [
    "#simple math\n",
    "print(f\"num1 + num2 = {num1 + num2}\")\n",
    "print(f\"num1 - num2 = {num1 - num2}\")"
   ]
  },
  {
   "cell_type": "code",
   "execution_count": 6,
   "id": "f87eabc2",
   "metadata": {},
   "outputs": [
    {
     "name": "stdout",
     "output_type": "stream",
     "text": [
      "e^(5+12j) = (125.23903183670447-79.63448184933233j)\n",
      "sin(5+12j) =  (-78034.76015765528+23083.68991339166j)\n"
     ]
    }
   ],
   "source": [
    "#advanced math with cmath\n",
    "import cmath\n",
    "num = 5+12j\n",
    "\n",
    "print(\"e^(5+12j) =\", cmath.exp(num))\n",
    "print(\"sin(5+12j) = \", cmath.sin(num))"
   ]
  },
  {
   "cell_type": "code",
   "execution_count": null,
   "id": "938ecd9f",
   "metadata": {},
   "outputs": [],
   "source": [
    "#thanks for watching"
   ]
  }
 ],
 "metadata": {
  "kernelspec": {
   "display_name": "Python 3 (ipykernel)",
   "language": "python",
   "name": "python3"
  },
  "language_info": {
   "codemirror_mode": {
    "name": "ipython",
    "version": 3
   },
   "file_extension": ".py",
   "mimetype": "text/x-python",
   "name": "python",
   "nbconvert_exporter": "python",
   "pygments_lexer": "ipython3",
   "version": "3.9.8"
  }
 },
 "nbformat": 4,
 "nbformat_minor": 5
}
