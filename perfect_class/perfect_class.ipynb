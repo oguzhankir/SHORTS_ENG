{
 "cells": [
  {
   "cell_type": "code",
   "execution_count": 1,
   "metadata": {},
   "outputs": [],
   "source": [
    "\"\"\"\n",
    "Classes names should use CapitalName format\n",
    "\"\"\"\n",
    "class MyAwesomeClass(object):\n",
    "    \"\"\"\n",
    "    Use lowecase_underscore format for\n",
    "    functios, variables, and attributes\n",
    "    \"\"\"\n",
    "    def regular_method(self):\n",
    "        pass\n",
    "\n",
    "    \"\"\"\n",
    "    Use _leading format for\n",
    "    protected attributes\n",
    "    \"\"\"\n",
    "    def _protected_method(self):\n",
    "        pass\n",
    "\n",
    "    \"\"\"\n",
    "    Use __double_leading format for\n",
    "    private attributes\n",
    "    \"\"\"\n",
    "    def __private_method(self):\n",
    "        pass"
   ]
  },
  {
   "cell_type": "code",
   "execution_count": null,
   "metadata": {},
   "outputs": [],
   "source": [
    "#thanks for watching"
   ]
  }
 ],
 "metadata": {
  "interpreter": {
   "hash": "7f95aea7df05cc2b797c263d857fe10432edc47af65a5172f4d67c72cd746ff0"
  },
  "kernelspec": {
   "display_name": "Python 3.9.8 64-bit",
   "language": "python",
   "name": "python3"
  },
  "language_info": {
   "codemirror_mode": {
    "name": "ipython",
    "version": 3
   },
   "file_extension": ".py",
   "mimetype": "text/x-python",
   "name": "python",
   "nbconvert_exporter": "python",
   "pygments_lexer": "ipython3",
   "version": "3.9.8"
  },
  "orig_nbformat": 4
 },
 "nbformat": 4,
 "nbformat_minor": 2
}
