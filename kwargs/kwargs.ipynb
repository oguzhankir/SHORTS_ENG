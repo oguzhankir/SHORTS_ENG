{
 "cells": [
  {
   "cell_type": "code",
   "execution_count": 2,
   "id": "8db15368",
   "metadata": {},
   "outputs": [
    {
     "name": "stdout",
     "output_type": "stream",
     "text": [
      "name = oguzhan\n"
     ]
    }
   ],
   "source": [
    "\"\"\"\n",
    "I recommend watching the *args video first.\n",
    "\n",
    "- **kwargs --\n",
    "the difference from args is in the form of\n",
    "key-value to the function\n",
    "that we can send value\n",
    "e.g:\n",
    "\"\"\"\n",
    "\n",
    "def print_name(**kwargs):\n",
    "    for key,value in kwargs.items():\n",
    "        print(f\"{key} = {value}\")\n",
    "\n",
    "print_name(name = \"oguzhan\")"
   ]
  },
  {
   "cell_type": "code",
   "execution_count": 3,
   "id": "0e7dbd5a",
   "metadata": {},
   "outputs": [
    {
     "name": "stdout",
     "output_type": "stream",
     "text": [
      "bob\n",
      "james\n",
      "john..\n",
      "key:name, value:oguzhan\n"
     ]
    }
   ],
   "source": [
    "#we can use *args and **kwargs together\n",
    "\n",
    "def print_names(*args, **kwargs):\n",
    "    for arg in args:\n",
    "        print(arg)\n",
    "\n",
    "    for key, value in kwargs.items():\n",
    "        print(f\"key:{key}, value:{value}\")\n",
    "\n",
    "print_names(\"bob\",\"james\",\"john..\",name=\"oguzhan\")"
   ]
  },
  {
   "cell_type": "code",
   "execution_count": null,
   "id": "cac0a74c",
   "metadata": {},
   "outputs": [],
   "source": [
    "#thanks for watching"
   ]
  }
 ],
 "metadata": {
  "kernelspec": {
   "display_name": "Python 3",
   "language": "python",
   "name": "python3"
  },
  "language_info": {
   "codemirror_mode": {
    "name": "ipython",
    "version": 3
   },
   "file_extension": ".py",
   "mimetype": "text/x-python",
   "name": "python",
   "nbconvert_exporter": "python",
   "pygments_lexer": "ipython3",
   "version": "3.9.8"
  }
 },
 "nbformat": 4,
 "nbformat_minor": 5
}
