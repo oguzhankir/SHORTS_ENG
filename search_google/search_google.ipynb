{
 "cells": [
  {
   "cell_type": "code",
   "execution_count": 7,
   "metadata": {},
   "outputs": [],
   "source": [
    "#!pip install google"
   ]
  },
  {
   "cell_type": "code",
   "execution_count": 8,
   "metadata": {},
   "outputs": [
    {
     "name": "stdout",
     "output_type": "stream",
     "text": [
      "https://www.turkiye.gov.tr/\n",
      "https://giris.turkiye.gov.tr/\n",
      "https://www.turkiye.gov.tr/saglik-bakanligi-e-nabiz-kisisel-saglik-sistemi\n",
      "https://www.turkiye.gov.tr/hizmet-oneri-anket\n",
      "https://www.turkiye.gov.tr/gelen-kutusu\n",
      "https://tr.sputniknews.com/20220206/kucukkuyu-belediye-baskani-balkan-adli-kontrol-sartiyla-serbest-birakildi-1053514281.html\n",
      "https://odatv4.com/guncel/turkiye-nin-dort-yanindan-vatandaslar-faturalara-karsi-eylem-yapti-228747\n",
      "https://www.sondakika.com/ekonomi/haber-turkiye-nin-en-kalabalik-ilcesi-belli-oldu-14714434/\n",
      "https://tr.wikipedia.org/wiki/T%C3%BCrkiye\n",
      "https://tr.wikipedia.org/wiki/T%C3%BCrkiye_K%C3%BCrtleri\n"
     ]
    },
    {
     "data": {
      "text/plain": [
       "'\\nit will print the links of the first\\n10 pages that will appear when you search\\n'"
      ]
     },
     "execution_count": 8,
     "metadata": {},
     "output_type": "execute_result"
    }
   ],
   "source": [
    "from googlesearch import search\n",
    "txt =  \"Türkiye\"\n",
    "\n",
    "for i in search(txt, tld=\"co.in\",\n",
    "            num=10, stop=10, pause=2):\n",
    "    print(i)\n",
    "\n",
    "\"\"\"\n",
    "it will print the links of the first\n",
    "10 pages that will appear when you search\n",
    "\"\"\""
   ]
  },
  {
   "cell_type": "code",
   "execution_count": 9,
   "metadata": {},
   "outputs": [
    {
     "name": "stdout",
     "output_type": "stream",
     "text": [
      "https://www.youtube.com/channel/UCidN6LlDmXvuboEyZbGOWng\n",
      "https://tr.linkedin.com/in/oguzhankir\n"
     ]
    }
   ],
   "source": [
    "my_youtube_channel=\"https://www.youtube.com/channel/UCidN6LlDmXvuboEyZbGOWng\"\n",
    "for i in search(my_youtube_channel, \n",
    "        tld=\"co.in\", num=10, stop=10, pause=2):\n",
    "    print(i)"
   ]
  },
  {
   "cell_type": "code",
   "execution_count": null,
   "metadata": {},
   "outputs": [],
   "source": [
    "#please don't forget to subscribe"
   ]
  }
 ],
 "metadata": {
  "interpreter": {
   "hash": "7f95aea7df05cc2b797c263d857fe10432edc47af65a5172f4d67c72cd746ff0"
  },
  "kernelspec": {
   "display_name": "Python 3.9.8 64-bit",
   "language": "python",
   "name": "python3"
  },
  "language_info": {
   "codemirror_mode": {
    "name": "ipython",
    "version": 3
   },
   "file_extension": ".py",
   "mimetype": "text/x-python",
   "name": "python",
   "nbconvert_exporter": "python",
   "pygments_lexer": "ipython3",
   "version": "3.9.8"
  },
  "orig_nbformat": 4
 },
 "nbformat": 4,
 "nbformat_minor": 2
}
