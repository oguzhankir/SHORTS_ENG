{
 "cells": [
  {
   "cell_type": "markdown",
   "metadata": {},
   "source": [
    "$X^2=\\sum_{i=1}^{n}\\frac{(Observed-Expected)^2}{Expected}$\n",
    "\n",
    "Expected =$\\frac{Total rows * Total columns}{the overall total}$\n",
    "\n",
    "Degrees of freedom =(N.o. Rows-1) * (N.o. Columns-1)\n",
    "\n",
    "$(X_table)$^2= $(X_D.o.F,\\alpha)^2$\n",
    "\n",
    "if  $X^2 > $(X_table)$^2$ there is a relationship\n",
    "\n",
    "if $X^2 < $(X_table)$^2$ no relationship\n",
    "\n"
   ]
  },
  {
   "cell_type": "code",
   "execution_count": 2,
   "metadata": {},
   "outputs": [
    {
     "name": "stdout",
     "output_type": "stream",
     "text": [
      "          low  normal  high\n",
      "region 1   25      32    36\n",
      "region 2   21      36    22\n"
     ]
    }
   ],
   "source": [
    "#imports\n",
    "from scipy.stats import chi2_contingency\n",
    "from scipy.stats import chi2\n",
    "import pandas as pd\n",
    "\n",
    "\"\"\"\n",
    "----------------------\n",
    "Data: children bron in two different\n",
    "regions were divided into low, normal,\n",
    "and high weight categories\n",
    "\n",
    "-----------------------\n",
    "is there a relationship between the birth\n",
    "weight of babies and the region\n",
    "where they were born?\n",
    "\n",
    "\"\"\"\n",
    "data = pd.DataFrame({\n",
    "    \"region 1\": [25, 32, 36],\n",
    "    \"region 2\": [21, 36, 22]\n",
    "}, index=[\"low\",\"normal\",\"high\"])\n",
    "data = data.T\n",
    "print(data)"
   ]
  },
  {
   "cell_type": "code",
   "execution_count": 3,
   "metadata": {},
   "outputs": [
    {
     "name": "stdout",
     "output_type": "stream",
     "text": [
      "p:0.2415059116476658\n",
      "D.o.F:2\n",
      "expected:\n",
      ":[[24.87209302 36.76744186 31.36046512]\n",
      " [21.12790698 31.23255814 26.63953488]]\n",
      "no relationship\n"
     ]
    }
   ],
   "source": [
    "X2, p, dof, expected = \\\n",
    "    chi2_contingency(data)\n",
    "\n",
    "alpha = 0.05\n",
    "\n",
    "X2_table = chi2.ppf((1-alpha), dof)\n",
    "print(f\"p:{p}\")\n",
    "print(f\"D.o.F:{dof}\")\n",
    "print(f\"expected:\\n:{expected}\")\n",
    "\n",
    "if X2 > X2_table:\n",
    "    print(\"there is relationship\")\n",
    "elif X2 < X2_table:\n",
    "    print(\"no relationship\")"
   ]
  },
  {
   "cell_type": "code",
   "execution_count": null,
   "metadata": {},
   "outputs": [],
   "source": [
    "#as you can see, there was no relationship\n",
    "#between the region and child weights.\n",
    "\n",
    "#thanks for watching"
   ]
  }
 ],
 "metadata": {
  "interpreter": {
   "hash": "7f95aea7df05cc2b797c263d857fe10432edc47af65a5172f4d67c72cd746ff0"
  },
  "kernelspec": {
   "display_name": "Python 3.9.8 64-bit",
   "language": "python",
   "name": "python3"
  },
  "language_info": {
   "codemirror_mode": {
    "name": "ipython",
    "version": 3
   },
   "file_extension": ".py",
   "mimetype": "text/x-python",
   "name": "python",
   "nbconvert_exporter": "python",
   "pygments_lexer": "ipython3",
   "version": "3.9.8"
  },
  "orig_nbformat": 4
 },
 "nbformat": 4,
 "nbformat_minor": 2
}
